{
 "cells": [
  {
   "cell_type": "code",
   "execution_count": 3,
   "metadata": {},
   "outputs": [],
   "source": [
    "from pursuit_evasion_v0 import * \n",
    "from stable_baselines3 import PPO\n",
    "from stable_baselines3.common.env_util import make_vec_env\n",
    "import supersuit as ss\n",
    "import os \n",
    "import time\n",
    "import glob\n",
    "from stable_baselines3 import PPO\n",
    "from stable_baselines3.sac.policies import MlpPolicy\n"
   ]
  },
  {
   "cell_type": "code",
   "execution_count": 4,
   "metadata": {},
   "outputs": [
    {
     "ename": "ValueError",
     "evalue": "environment passed to supersuit wrapper must either be a gymnasium environment or a pettingzoo environment",
     "output_type": "error",
     "traceback": [
      "\u001b[0;31m---------------------------------------------------------------------------\u001b[0m",
      "\u001b[0;31mValueError\u001b[0m                                Traceback (most recent call last)",
      "Cell \u001b[0;32mIn[4], line 7\u001b[0m\n\u001b[1;32m      3\u001b[0m     env \u001b[38;5;241m=\u001b[39m ss\u001b[38;5;241m.\u001b[39mblack_death_v3(env)\n\u001b[1;32m      5\u001b[0m     visual_observation \u001b[38;5;241m=\u001b[39m \u001b[38;5;129;01mnot\u001b[39;00m env\u001b[38;5;241m.\u001b[39munwrapped\u001b[38;5;241m.\u001b[39mvector_state\n\u001b[0;32m----> 7\u001b[0m \u001b[43mtrain\u001b[49m\u001b[43m(\u001b[49m\u001b[43m)\u001b[49m\n",
      "Cell \u001b[0;32mIn[4], line 3\u001b[0m, in \u001b[0;36mtrain\u001b[0;34m(steps, seed, **env_kwargs)\u001b[0m\n\u001b[1;32m      1\u001b[0m \u001b[38;5;28;01mdef\u001b[39;00m \u001b[38;5;21mtrain\u001b[39m(steps: \u001b[38;5;28mint\u001b[39m \u001b[38;5;241m=\u001b[39m \u001b[38;5;241m10_000\u001b[39m, seed\u001b[38;5;241m=\u001b[39m\u001b[38;5;28;01mNone\u001b[39;00m, \u001b[38;5;241m*\u001b[39m\u001b[38;5;241m*\u001b[39menv_kwargs):\n\u001b[1;32m      2\u001b[0m     env \u001b[38;5;241m=\u001b[39m PursuitEvasionV0\n\u001b[0;32m----> 3\u001b[0m     env \u001b[38;5;241m=\u001b[39m \u001b[43mss\u001b[49m\u001b[38;5;241;43m.\u001b[39;49m\u001b[43mblack_death_v3\u001b[49m\u001b[43m(\u001b[49m\u001b[43menv\u001b[49m\u001b[43m)\u001b[49m\n\u001b[1;32m      5\u001b[0m     visual_observation \u001b[38;5;241m=\u001b[39m \u001b[38;5;129;01mnot\u001b[39;00m env\u001b[38;5;241m.\u001b[39munwrapped\u001b[38;5;241m.\u001b[39mvector_state\n",
      "File \u001b[0;32m~/anaconda3/envs/pettingzoo/lib/python3.8/site-packages/supersuit/utils/wrapper_chooser.py:37\u001b[0m, in \u001b[0;36mWrapperChooser.__call__\u001b[0;34m(self, env, *args, **kwargs)\u001b[0m\n\u001b[1;32m     33\u001b[0m         \u001b[38;5;28;01mreturn\u001b[39;00m aec_to_parallel(\n\u001b[1;32m     34\u001b[0m             \u001b[38;5;28mself\u001b[39m\u001b[38;5;241m.\u001b[39maec_wrapper(parallel_to_aec(env), \u001b[38;5;241m*\u001b[39margs, \u001b[38;5;241m*\u001b[39m\u001b[38;5;241m*\u001b[39mkwargs)\n\u001b[1;32m     35\u001b[0m         )\n\u001b[1;32m     36\u001b[0m \u001b[38;5;28;01melse\u001b[39;00m:\n\u001b[0;32m---> 37\u001b[0m     \u001b[38;5;28;01mraise\u001b[39;00m \u001b[38;5;167;01mValueError\u001b[39;00m(\n\u001b[1;32m     38\u001b[0m         \u001b[38;5;124m\"\u001b[39m\u001b[38;5;124menvironment passed to supersuit wrapper must either be a gymnasium environment or a pettingzoo environment\u001b[39m\u001b[38;5;124m\"\u001b[39m\n\u001b[1;32m     39\u001b[0m     )\n",
      "\u001b[0;31mValueError\u001b[0m: environment passed to supersuit wrapper must either be a gymnasium environment or a pettingzoo environment"
     ]
    }
   ],
   "source": [
    "def train(steps: int = 10_000, seed=None, **env_kwargs):\n",
    "    env = PursuitEvasionV0()\n",
    "    env = ss.black_death_v3(env)\n",
    "    \n",
    "    visual_observation = not env.unwrapped.vector_state\n",
    "    \n",
    "train()"
   ]
  },
  {
   "cell_type": "code",
   "execution_count": null,
   "metadata": {},
   "outputs": [],
   "source": []
  },
  {
   "cell_type": "code",
   "execution_count": null,
   "metadata": {},
   "outputs": [],
   "source": []
  }
 ],
 "metadata": {
  "kernelspec": {
   "display_name": "pettingzoo",
   "language": "python",
   "name": "python3"
  },
  "language_info": {
   "codemirror_mode": {
    "name": "ipython",
    "version": 3
   },
   "file_extension": ".py",
   "mimetype": "text/x-python",
   "name": "python",
   "nbconvert_exporter": "python",
   "pygments_lexer": "ipython3",
   "version": "3.8.19"
  }
 },
 "nbformat": 4,
 "nbformat_minor": 2
}
