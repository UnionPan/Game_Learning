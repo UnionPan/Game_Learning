{
 "cells": [
  {
   "cell_type": "code",
   "execution_count": 1,
   "metadata": {},
   "outputs": [
    {
     "name": "stdout",
     "output_type": "stream",
     "text": [
      "Initializing 2 Firms 4 Goods Cournot Competition\n"
     ]
    }
   ],
   "source": [
    "from cournot_agent import CournotAgent, plot_overall_trajectory, plot_tube_trajectory\n",
    "from cournot_v0 import Cournot_v0\n",
    "from cournot_design import CournotDesigner\n",
    "import matplotlib.pyplot as plt\n",
    "import matplotlib.cm as cm\n",
    "import numpy as np\n",
    "import tqdm\n",
    "\n",
    "config = {'flag': False, 'mean': np.zeros(4,), 'variance': 0.5 * np.eye(4)}\n",
    "    \n",
    "P = np.array([[4.0, 4.2, 2.0, 3.8], [2.0, 2.2, 3.5, 6.7]]).T\n",
    "M = np.array([[8.0], [7.0], [8.0], [12.0]])\n",
    "    \n",
    "cournot_game = Cournot_v0(costs=P, market_capacity=M, stochastic_option=config)\n",
    "designer = CournotDesigner(cournot_game, config)\n"
   ]
  },
  {
   "cell_type": "code",
   "execution_count": 2,
   "metadata": {},
   "outputs": [
    {
     "name": "stdout",
     "output_type": "stream",
     "text": [
      "[<cournot_agent.CournotAgent object at 0x7fc7c8ccabb0>, <cournot_agent.CournotAgent object at 0x7fc7caca28e0>] [array([[2.33961004],\n",
      "       [1.67194598],\n",
      "       [0.88446635],\n",
      "       [0.46034534]]), array([[1.11931644],\n",
      "       [0.40266032],\n",
      "       [2.35686134],\n",
      "       [0.85968067]])]\n",
      "[array([[8.08583694]]), array([[10.32969607]])]\n"
     ]
    }
   ],
   "source": [
    "print(designer.agents, designer.initial)\n",
    "designer.game.reset(designer.initial, stochastic_option=config)\n",
    "print(designer.game.profits, designer.game.total_production)\n"
   ]
  },
  {
   "cell_type": "code",
   "execution_count": null,
   "metadata": {},
   "outputs": [],
   "source": []
  },
  {
   "cell_type": "code",
   "execution_count": null,
   "metadata": {},
   "outputs": [],
   "source": []
  },
  {
   "cell_type": "code",
   "execution_count": null,
   "metadata": {},
   "outputs": [],
   "source": []
  }
 ],
 "metadata": {
  "kernelspec": {
   "display_name": "pettingzoo",
   "language": "python",
   "name": "python3"
  },
  "language_info": {
   "codemirror_mode": {
    "name": "ipython",
    "version": 3
   },
   "file_extension": ".py",
   "mimetype": "text/x-python",
   "name": "python",
   "nbconvert_exporter": "python",
   "pygments_lexer": "ipython3",
   "version": "3.8.19"
  }
 },
 "nbformat": 4,
 "nbformat_minor": 2
}
